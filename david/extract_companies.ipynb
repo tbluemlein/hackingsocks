{
 "cells": [
  {
   "cell_type": "code",
   "execution_count": 2,
   "id": "dafb18d7",
   "metadata": {},
   "outputs": [],
   "source": [
    "import glob"
   ]
  },
  {
   "cell_type": "code",
   "execution_count": 5,
   "id": "2ef2bf1c",
   "metadata": {},
   "outputs": [],
   "source": [
    "pdfs = glob.glob('../00_dataset/financebench/pdfs/*.pdf')"
   ]
  },
  {
   "cell_type": "code",
   "execution_count": 11,
   "id": "bd84d3a6",
   "metadata": {},
   "outputs": [
    {
     "data": {
      "text/plain": [
       "{'3M',\n",
       " 'ACTIVISIONBLIZZARD',\n",
       " 'ACTIVSIONBLIZZARD',\n",
       " 'ADOBE',\n",
       " 'AES',\n",
       " 'AMAZON',\n",
       " 'AMCOR',\n",
       " 'AMD',\n",
       " 'AMERICANEXPRESS',\n",
       " 'AMERICANWATERWORKS',\n",
       " 'APPLE',\n",
       " 'BESTBUY',\n",
       " 'BLOCK',\n",
       " 'BOEING',\n",
       " 'BOSTONPROPERTIES',\n",
       " 'COCACOLA',\n",
       " 'CORNING',\n",
       " 'COSTCO',\n",
       " 'CVSHEALTH',\n",
       " 'EBAY',\n",
       " 'FEDEX',\n",
       " 'FOOTLOCKER',\n",
       " 'GENERALMILLS',\n",
       " 'INTEL',\n",
       " 'JOHNSON',\n",
       " 'JPMORGAN',\n",
       " 'KRAFTHEINZ',\n",
       " 'LOCKHEEDMARTIN',\n",
       " 'MCDONALDS',\n",
       " 'MGMRESORTS',\n",
       " 'MICROSOFT',\n",
       " 'NETFLIX',\n",
       " 'NIKE',\n",
       " 'ORACLE',\n",
       " 'PAYPAL',\n",
       " 'PEPSICO',\n",
       " 'PFIZER',\n",
       " 'PG',\n",
       " 'Pfizer',\n",
       " 'SALESFORCE',\n",
       " 'ULTABEAUTY',\n",
       " 'VERIZON',\n",
       " 'WALMART'}"
      ]
     },
     "execution_count": 11,
     "metadata": {},
     "output_type": "execute_result"
    }
   ],
   "source": [
    "set([c.split('_')[0] for c in [p.split('/')[-1] for p in pdfs]])"
   ]
  },
  {
   "cell_type": "code",
   "execution_count": null,
   "id": "8e016a07",
   "metadata": {},
   "outputs": [],
   "source": []
  },
  {
   "cell_type": "code",
   "execution_count": null,
   "id": "b4fdd736",
   "metadata": {},
   "outputs": [],
   "source": []
  },
  {
   "cell_type": "code",
   "execution_count": null,
   "id": "c1f47843",
   "metadata": {},
   "outputs": [],
   "source": []
  }
 ],
 "metadata": {
  "kernelspec": {
   "display_name": "py3.11",
   "language": "python",
   "name": "python3"
  },
  "language_info": {
   "codemirror_mode": {
    "name": "ipython",
    "version": 3
   },
   "file_extension": ".py",
   "mimetype": "text/x-python",
   "name": "python",
   "nbconvert_exporter": "python",
   "pygments_lexer": "ipython3",
   "version": "3.11.11"
  }
 },
 "nbformat": 4,
 "nbformat_minor": 5
}
